{
 "cells": [
  {
   "cell_type": "code",
   "execution_count": 13,
   "id": "bdcb44f2",
   "metadata": {},
   "outputs": [],
   "source": [
    "import numpy as np"
   ]
  },
  {
   "cell_type": "code",
   "execution_count": 14,
   "id": "be631379",
   "metadata": {},
   "outputs": [
    {
     "name": "stdout",
     "output_type": "stream",
     "text": [
      "[[-11. -10.   5.]\n",
      " [  5.   4.  -5.]\n",
      " [-20. -20.   4.]]\n"
     ]
    }
   ],
   "source": [
    "A = np.array([[-11,-10,5],[5,4,-5],[-20,-20,4]], dtype= 'float64')\n",
    "print(A)"
   ]
  },
  {
   "cell_type": "code",
   "execution_count": 15,
   "id": "ab948dd9",
   "metadata": {},
   "outputs": [],
   "source": [
    "def findEigen(matrix, lambda_name):\n",
    "    xi = np.array([[1],[1],[1]], dtype = 'float64')\n",
    "    prev_b = [0,0,0]\n",
    "    while True:\n",
    "        yi = np.matmul((matrix),xi)\n",
    "        xi = yi / np.max(abs(yi))\n",
    "        a = xi / np.min(abs(xi))\n",
    "        b = [round(xi[j][0],2) for j in range(3) ]\n",
    "        if prev_b == [-k for k in b] or prev_b == b:\n",
    "            print(\"%s Eigen Vector = \"%(lambda_name),b)\n",
    "            b = np.reshape(np.array(b),(3,1))\n",
    "            b = b/ np.min(b)\n",
    "            lambda_ = (b.T@A@b/(b.T@b))[0][0]\n",
    "            print('Corresponding Eigen Value (%s)--> '%(lambda_name),lambda_)\n",
    "            return lambda_\n",
    "        prev_b = b"
   ]
  },
  {
   "cell_type": "code",
   "execution_count": 16,
   "id": "adb0fdad",
   "metadata": {},
   "outputs": [
    {
     "name": "stdout",
     "output_type": "stream",
     "text": [
      "first Eigen Vector =  [-0.0, -0.5, -1.0]\n",
      "Corresponding Eigen Value (first)-->  -6.0\n"
     ]
    }
   ],
   "source": [
    "lambda1 = findEigen(A,'first')"
   ]
  },
  {
   "cell_type": "code",
   "execution_count": 17,
   "id": "16eed44c",
   "metadata": {},
   "outputs": [
    {
     "name": "stdout",
     "output_type": "stream",
     "text": [
      "second Eigen Vector =  [-0.99, 0.99, -1.0]\n",
      "Corresponding Eigen Value (second)-->  4.033443686237416\n"
     ]
    }
   ],
   "source": [
    "lambda2 = findEigen(A - lambda1 * np.identity(3),'second')"
   ]
  },
  {
   "cell_type": "markdown",
   "id": "501c3610",
   "metadata": {},
   "source": [
    "Smallest eigen value of the matrix A is the largest eigen value of the A inverse matrix. Hence,"
   ]
  },
  {
   "cell_type": "code",
   "execution_count": 18,
   "id": "096d2779",
   "metadata": {},
   "outputs": [
    {
     "name": "stdout",
     "output_type": "stream",
     "text": [
      "third Eigen Vector =  [-1.0, 1.0, -0.0]\n",
      "Corresponding Eigen Value (third)-->  -1.0\n"
     ]
    }
   ],
   "source": [
    "C = np.linalg.pinv(A)\n",
    "lambda3 = findEigen(C,'third')"
   ]
  }
 ],
 "metadata": {
  "interpreter": {
   "hash": "81794d4967e6c3204c66dcd87b604927b115b27c00565d3d43f05ba2f3a2cb0d"
  },
  "kernelspec": {
   "display_name": "Python 3.9.1 64-bit (system)",
   "language": "python",
   "name": "python3"
  },
  "language_info": {
   "codemirror_mode": {
    "name": "ipython",
    "version": 3
   },
   "file_extension": ".py",
   "mimetype": "text/x-python",
   "name": "python",
   "nbconvert_exporter": "python",
   "pygments_lexer": "ipython3",
   "version": "3.9.1"
  }
 },
 "nbformat": 4,
 "nbformat_minor": 5
}
