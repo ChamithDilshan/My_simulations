{
 "cells": [
  {
   "cell_type": "code",
   "execution_count": 168,
   "metadata": {},
   "outputs": [],
   "source": [
    "import numpy as np"
   ]
  },
  {
   "cell_type": "code",
   "execution_count": 169,
   "metadata": {},
   "outputs": [
    {
     "data": {
      "text/plain": [
       "[array([1, 1, 1]), array([1, 0, 1]), array([0, 1, 1]), array([0, 0, 1])]"
      ]
     },
     "execution_count": 169,
     "metadata": {},
     "output_type": "execute_result"
    }
   ],
   "source": [
    "input_vectors = [np.array([1,1,1]), np.array([1,0,1]), np.array([0,1,1]), np.array([0,0,1])]\n",
    "input_vectors"
   ]
  },
  {
   "cell_type": "code",
   "execution_count": 170,
   "metadata": {},
   "outputs": [],
   "source": [
    "truth_table = {\"input_vectors\": input_vectors, \"targets\":[1,-1,-1,-1]}"
   ]
  },
  {
   "cell_type": "code",
   "execution_count": 171,
   "metadata": {},
   "outputs": [
    {
     "data": {
      "text/plain": [
       "{'input_vectors': [array([1, 1, 1]),\n",
       "  array([1, 0, 1]),\n",
       "  array([0, 1, 1]),\n",
       "  array([0, 0, 1])],\n",
       " 'targets': [1, -1, -1, -1]}"
      ]
     },
     "execution_count": 171,
     "metadata": {},
     "output_type": "execute_result"
    }
   ],
   "source": [
    "truth_table   #Truth table for the AND gate with binary inputs and binomial outputs"
   ]
  },
  {
   "cell_type": "code",
   "execution_count": 172,
   "metadata": {},
   "outputs": [],
   "source": [
    "w1, w2, alpha, b, theta = 0, 0, 1, 0, 0.2   #declare the variables"
   ]
  },
  {
   "cell_type": "code",
   "execution_count": 173,
   "metadata": {},
   "outputs": [
    {
     "data": {
      "text/plain": [
       "array([0, 0, 0])"
      ]
     },
     "execution_count": 173,
     "metadata": {},
     "output_type": "execute_result"
    }
   ],
   "source": [
    "weights = np.array([w1,w2,b])\n",
    "weights"
   ]
  },
  {
   "cell_type": "code",
   "execution_count": 174,
   "metadata": {},
   "outputs": [],
   "source": [
    "def compute_new_weights(weights, i):  #function to compute the changes in the weights and finally output the new value\n",
    "\n",
    "    weights[0] = weights[0] + alpha*truth_table['targets'][i]*truth_table['input_vectors'][i][0]\n",
    "    weights[1] = weights[1] + alpha*truth_table['targets'][i]*truth_table['input_vectors'][i][1]\n",
    "    weights[2] = weights[2] + alpha*truth_table['targets'][i]\n",
    "  \n",
    "    return weights\n",
    "    "
   ]
  },
  {
   "cell_type": "code",
   "execution_count": 175,
   "metadata": {},
   "outputs": [],
   "source": [
    "def compute_y_in(weights,i):   #input to the output node\n",
    "    return np.sum(weights*truth_table['input_vectors'][i])"
   ]
  },
  {
   "cell_type": "code",
   "execution_count": 176,
   "metadata": {},
   "outputs": [],
   "source": [
    "def compute_y_out(y_in):    #activation function\n",
    "    if y_in >= theta: return 1\n",
    "    elif -theta<= y_in < theta : return 0\n",
    "    else : return -1"
   ]
  },
  {
   "cell_type": "code",
   "execution_count": 177,
   "metadata": {},
   "outputs": [
    {
     "name": "stdout",
     "output_type": "stream",
     "text": [
      "After epoch number 1: [ 0  0 -1]\n",
      "After epoch number 2: [ 0  0 -2]\n",
      "After epoch number 3: [ 0  1 -2]\n",
      "After epoch number 4: [ 0  1 -3]\n",
      "After epoch number 5: [ 1  1 -3]\n",
      "After epoch number 6: [ 1  2 -3]\n",
      "After epoch number 7: [ 1  2 -4]\n",
      "After epoch number 8: [ 2  2 -4]\n",
      "After epoch number 9: [ 2  3 -4]\n",
      "After epoch number 10: [ 2  3 -4]\n"
     ]
    }
   ],
   "source": [
    "condition = True\n",
    "y_outs = [0,0,0,0]\n",
    "\n",
    "epoch = 1\n",
    "while condition:\n",
    "    \n",
    "    for i in range(4):\n",
    "        y_in = compute_y_in(weights,i)\n",
    "        y_out = compute_y_out(y_in)\n",
    "        y_outs[i] = y_out\n",
    "        \n",
    "        if y_out != truth_table['targets'][i]:      #If the output predicted by the neural network is equal to target, we don't adjust the weights\n",
    "            weights = compute_new_weights(weights,i)\n",
    "    \n",
    "    if y_outs== truth_table['targets']: \n",
    "        condition = False\n",
    "    \n",
    "    print(f\"After epoch number {epoch}: {weights}\")\n",
    "    epoch+=1\n",
    "        \n",
    "        "
   ]
  }
 ],
 "metadata": {
  "kernelspec": {
   "display_name": "regular_use",
   "language": "python",
   "name": "python3"
  },
  "language_info": {
   "codemirror_mode": {
    "name": "ipython",
    "version": 3
   },
   "file_extension": ".py",
   "mimetype": "text/x-python",
   "name": "python",
   "nbconvert_exporter": "python",
   "pygments_lexer": "ipython3",
   "version": "3.11.4"
  },
  "orig_nbformat": 4
 },
 "nbformat": 4,
 "nbformat_minor": 2
}
